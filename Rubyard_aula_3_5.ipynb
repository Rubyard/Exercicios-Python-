{
  "nbformat": 4,
  "nbformat_minor": 0,
  "metadata": {
    "colab": {
      "name": "Rubyard_aula_3_5.ipynb",
      "provenance": [],
      "authorship_tag": "ABX9TyMNVML9clsTjmHfgQU1PgfI",
      "include_colab_link": true
    },
    "kernelspec": {
      "name": "python3",
      "display_name": "Python 3"
    }
  },
  "cells": [
    {
      "cell_type": "markdown",
      "metadata": {
        "id": "view-in-github",
        "colab_type": "text"
      },
      "source": [
        "<a href=\"https://colab.research.google.com/github/Rubyard/Exercicios-Python-/blob/master/Rubyard_aula_3_5.ipynb\" target=\"_parent\"><img src=\"https://colab.research.google.com/assets/colab-badge.svg\" alt=\"Open In Colab\"/></a>"
      ]
    },
    {
      "cell_type": "code",
      "metadata": {
        "id": "t-QEXa0AE0iP",
        "outputId": "f343cc36-8d1b-4444-95c2-de76a10bbf44",
        "colab": {
          "base_uri": "https://localhost:8080/"
        }
      },
      "source": [
        "import math\n",
        "r=12\n",
        "V=(4/3)*(r**3)/3\n",
        "print(V)\n",
        "\n"
      ],
      "execution_count": 21,
      "outputs": [
        {
          "output_type": "stream",
          "text": [
            "768.0\n"
          ],
          "name": "stdout"
        }
      ]
    },
    {
      "cell_type": "code",
      "metadata": {
        "id": "JK0v2Ur3HeJw",
        "outputId": "2fcb0a54-30c7-469c-f80b-18225081d7b3",
        "colab": {
          "base_uri": "https://localhost:8080/"
        }
      },
      "source": [
        "import math\n",
        "h= 1.60\n",
        "m= 80\n",
        "IMC= (m)/(h**2)\n",
        "print(IMC)"
      ],
      "execution_count": 25,
      "outputs": [
        {
          "output_type": "stream",
          "text": [
            "31.249999999999993\n"
          ],
          "name": "stdout"
        }
      ]
    }
  ]
}