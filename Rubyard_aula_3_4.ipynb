{
  "nbformat": 4,
  "nbformat_minor": 0,
  "metadata": {
    "colab": {
      "name": "Rubyard_aula_3_4.ipynb",
      "provenance": [],
      "authorship_tag": "ABX9TyOkIYSHE8xU+GBAjJGvtBYE",
      "include_colab_link": true
    },
    "kernelspec": {
      "name": "python3",
      "display_name": "Python 3"
    }
  },
  "cells": [
    {
      "cell_type": "markdown",
      "metadata": {
        "id": "view-in-github",
        "colab_type": "text"
      },
      "source": [
        "<a href=\"https://colab.research.google.com/github/Rubyard/Exercicios-Python-/blob/master/Rubyard_aula_3_4.ipynb\" target=\"_parent\"><img src=\"https://colab.research.google.com/assets/colab-badge.svg\" alt=\"Open In Colab\"/></a>"
      ]
    },
    {
      "cell_type": "code",
      "metadata": {
        "id": "Y7EZUtm8x2YP",
        "outputId": "42bde349-2862-4622-cd2f-603cb2be7f31",
        "colab": {
          "base_uri": "https://localhost:8080/"
        }
      },
      "source": [
        "float(input('distancia em quilometros'))\n",
        "milhas= km/1.61\n",
        "print(milhas)"
      ],
      "execution_count": 9,
      "outputs": [
        {
          "output_type": "stream",
          "text": [
            "distancia em quilometros4\n",
            "0.6211180124223602\n"
          ],
          "name": "stdout"
        }
      ]
    },
    {
      "cell_type": "code",
      "metadata": {
        "id": "z9pa_7xEygJt",
        "outputId": "3406a1d9-66c6-4c6f-cf13-410e3c6f238c",
        "colab": {
          "base_uri": "https://localhost:8080/"
        }
      },
      "source": [
        "milhas=float(input('distancia em milhas'))\n",
        "km= (milhas)*(1.61)\n",
        "print(km)"
      ],
      "execution_count": 14,
      "outputs": [
        {
          "output_type": "stream",
          "text": [
            "distancia em milhas4\n",
            "6.44\n"
          ],
          "name": "stdout"
        }
      ]
    },
    {
      "cell_type": "code",
      "metadata": {
        "id": "eeLGkgVJzAtA"
      },
      "source": [
        "hr=float(input('tempo em horas'))\n",
        "s=hr*3600\n",
        "print(s)"
      ],
      "execution_count": null,
      "outputs": []
    },
    {
      "cell_type": "code",
      "metadata": {
        "id": "lw1EyD1zzrPy",
        "outputId": "ac311925-4579-4b12-9fab-70ad5492b611",
        "colab": {
          "base_uri": "https://localhost:8080/"
        }
      },
      "source": [
        "s=float(input('tempo em segundos'))\n",
        "hr=(s)/(3600)\n",
        "print(hr)"
      ],
      "execution_count": 15,
      "outputs": [
        {
          "output_type": "stream",
          "text": [
            "tempo em segundos1800\n",
            "0.5\n"
          ],
          "name": "stdout"
        }
      ]
    },
    {
      "cell_type": "code",
      "metadata": {
        "id": "FXAOkQS72GLg",
        "outputId": "3620249f-670b-4c22-831a-5e2ead577f7b",
        "colab": {
          "base_uri": "https://localhost:8080/"
        }
      },
      "source": [
        "import math\n",
        "x=16.1\n",
        "t=0.725\n",
        "v=(x)/(t)\n",
        "print('em milhas/hr', v)\n"
      ],
      "execution_count": 17,
      "outputs": [
        {
          "output_type": "stream",
          "text": [
            "em milhas/hr 22.206896551724142\n"
          ],
          "name": "stdout"
        }
      ]
    },
    {
      "cell_type": "markdown",
      "metadata": {
        "id": "t7kFKR0f9DjQ"
      },
      "source": [
        ""
      ]
    },
    {
      "cell_type": "code",
      "metadata": {
        "id": "mErPL7re82Pz",
        "outputId": "446888b1-5d96-4a32-947e-8343d5264ac9",
        "colab": {
          "base_uri": "https://localhost:8080/"
        }
      },
      "source": [
        "6.44/ 0.5        #velocidade é de 12,88 km/h"
      ],
      "execution_count": 26,
      "outputs": [
        {
          "output_type": "execute_result",
          "data": {
            "text/plain": [
              "12.88"
            ]
          },
          "metadata": {
            "tags": []
          },
          "execution_count": 26
        }
      ]
    }
  ]
}