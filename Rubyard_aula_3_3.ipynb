{
  "nbformat": 4,
  "nbformat_minor": 0,
  "metadata": {
    "colab": {
      "name": "Rubyard_aula_3_3.ipynb",
      "provenance": [],
      "authorship_tag": "ABX9TyN1+drfks/eyCdaypkejebh",
      "include_colab_link": true
    },
    "kernelspec": {
      "name": "python3",
      "display_name": "Python 3"
    }
  },
  "cells": [
    {
      "cell_type": "markdown",
      "metadata": {
        "id": "view-in-github",
        "colab_type": "text"
      },
      "source": [
        "<a href=\"https://colab.research.google.com/github/Rubyard/Exercicios-Python-/blob/master/Rubyard_aula_3_3.ipynb\" target=\"_parent\"><img src=\"https://colab.research.google.com/assets/colab-badge.svg\" alt=\"Open In Colab\"/></a>"
      ]
    },
    {
      "cell_type": "code",
      "metadata": {
        "id": "7W_2w55Xofa0",
        "outputId": "3f559c26-a6fe-4650-fdb5-68c32e1f74e8",
        "colab": {
          "base_uri": "https://localhost:8080/",
          "height": 34
        }
      },
      "source": [
        "import math\n",
        "cateto_adjacente=5\n",
        "cateto_oposto= 0.5\n",
        "tan_theta=cateto_adjacente/cateto_oposto\n",
        "theta=math.atan(tan_theta)\n",
        "print(theta, 'em radianos')\n",
        "\n"
      ],
      "execution_count": 36,
      "outputs": [
        {
          "output_type": "stream",
          "text": [
            "1.4711276743037347 em radianos\n"
          ],
          "name": "stdout"
        }
      ]
    }
  ]
}