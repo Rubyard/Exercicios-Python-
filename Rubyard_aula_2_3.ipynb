{
  "nbformat": 4,
  "nbformat_minor": 0,
  "metadata": {
    "colab": {
      "name": "Untitled6.ipynb",
      "provenance": [],
      "authorship_tag": "ABX9TyN/YamjDcEKWkzFeyddZfPh",
      "include_colab_link": true
    },
    "kernelspec": {
      "name": "python3",
      "display_name": "Python 3"
    }
  },
  "cells": [
    {
      "cell_type": "markdown",
      "metadata": {
        "id": "view-in-github",
        "colab_type": "text"
      },
      "source": [
        "<a href=\"https://colab.research.google.com/github/Rubyard/Exercicios-Python-/blob/master/Rubyard_aula_2_3.ipynb\" target=\"_parent\"><img src=\"https://colab.research.google.com/assets/colab-badge.svg\" alt=\"Open In Colab\"/></a>"
      ]
    },
    {
      "cell_type": "code",
      "metadata": {
        "id": "LW343gga4fRW",
        "colab_type": "code",
        "colab": {}
      },
      "source": [
        "V=24.95"
      ],
      "execution_count": 28,
      "outputs": []
    },
    {
      "cell_type": "code",
      "metadata": {
        "id": "1KpZQB1H48mF",
        "colab_type": "code",
        "colab": {
          "base_uri": "https://localhost:8080/",
          "height": 34
        },
        "outputId": "955f74d9-8fa8-4fcc-d285-d2b22a80a2f9"
      },
      "source": [
        "D=V*(0.4)\n",
        "print(D)"
      ],
      "execution_count": 31,
      "outputs": [
        {
          "output_type": "stream",
          "text": [
            "9.98\n"
          ],
          "name": "stdout"
        }
      ]
    },
    {
      "cell_type": "code",
      "metadata": {
        "id": "SHIf9bnL5P_K",
        "colab_type": "code",
        "colab": {
          "base_uri": "https://localhost:8080/",
          "height": 34
        },
        "outputId": "da040212-d68c-45a6-842a-82a3d2532661"
      },
      "source": [
        "VF=V-D\n",
        "print(VF)"
      ],
      "execution_count": 34,
      "outputs": [
        {
          "output_type": "stream",
          "text": [
            "14.969999999999999\n"
          ],
          "name": "stdout"
        }
      ]
    },
    {
      "cell_type": "code",
      "metadata": {
        "id": "GBObN-5987Z1",
        "colab_type": "code",
        "colab": {}
      },
      "source": [
        "a=0.75\n",
        "q=59"
      ],
      "execution_count": 58,
      "outputs": []
    },
    {
      "cell_type": "code",
      "metadata": {
        "id": "znb0Hjow9I-G",
        "colab_type": "code",
        "colab": {
          "base_uri": "https://localhost:8080/",
          "height": 34
        },
        "outputId": "c060b478-19bb-4eb2-e6f8-1ae41937f261"
      },
      "source": [
        "C=a*q\n",
        "print(C)"
      ],
      "execution_count": 60,
      "outputs": [
        {
          "output_type": "stream",
          "text": [
            "44.25\n"
          ],
          "name": "stdout"
        }
      ]
    },
    {
      "cell_type": "code",
      "metadata": {
        "id": "B1utwIdD9UMu",
        "colab_type": "code",
        "colab": {}
      },
      "source": [
        "E=3\n",
        "k=60"
      ],
      "execution_count": 70,
      "outputs": []
    },
    {
      "cell_type": "code",
      "metadata": {
        "id": "r4YMaaWz9aMo",
        "colab_type": "code",
        "colab": {
          "base_uri": "https://localhost:8080/",
          "height": 34
        },
        "outputId": "428d2080-6339-4b57-e1ff-ee09bdabdfba"
      },
      "source": [
        "CE=E+C\n",
        "print(CE)"
      ],
      "execution_count": 63,
      "outputs": [
        {
          "output_type": "stream",
          "text": [
            "47.25\n"
          ],
          "name": "stdout"
        }
      ]
    },
    {
      "cell_type": "code",
      "metadata": {
        "id": "oeikD_H59pSp",
        "colab_type": "code",
        "colab": {
          "base_uri": "https://localhost:8080/",
          "height": 34
        },
        "outputId": "c5333777-ab8f-4d25-cbfe-afebe65c45ad"
      },
      "source": [
        "T=VF*k+CE\n",
        "print('valor total=',T,'R$')"
      ],
      "execution_count": 74,
      "outputs": [
        {
          "output_type": "stream",
          "text": [
            "valor total= 945.4499999999999 R$\n"
          ],
          "name": "stdout"
        }
      ]
    }
  ]
}