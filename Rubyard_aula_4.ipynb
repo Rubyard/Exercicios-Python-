{
  "nbformat": 4,
  "nbformat_minor": 0,
  "metadata": {
    "colab": {
      "name": "Rubyard_aula_4.ipynb",
      "provenance": [],
      "authorship_tag": "ABX9TyNTDRQJP/8gnWyyVZ5ZiyYL",
      "include_colab_link": true
    },
    "kernelspec": {
      "name": "python3",
      "display_name": "Python 3"
    }
  },
  "cells": [
    {
      "cell_type": "markdown",
      "metadata": {
        "id": "view-in-github",
        "colab_type": "text"
      },
      "source": [
        "<a href=\"https://colab.research.google.com/github/Rubyard/Exercicios-Python-/blob/master/Rubyard_aula_4.ipynb\" target=\"_parent\"><img src=\"https://colab.research.google.com/assets/colab-badge.svg\" alt=\"Open In Colab\"/></a>"
      ]
    },
    {
      "cell_type": "code",
      "metadata": {
        "id": "OZfZmxOwPYN-"
      },
      "source": [
        "def do_twice(f):\n",
        "    f()\n",
        "    f()\n"
      ],
      "execution_count": 6,
      "outputs": []
    },
    {
      "cell_type": "code",
      "metadata": {
        "id": "yEkI5RUBRu9g",
        "outputId": "75df20ae-7f3a-4f90-9794-8183aa168983",
        "colab": {
          "base_uri": "https://localhost:8080/"
        }
      },
      "source": [
        "def print_spam():\n",
        "    print('spam')\n",
        "\n",
        "do_twice(print_spam)"
      ],
      "execution_count": 5,
      "outputs": [
        {
          "output_type": "stream",
          "text": [
            "spam\n",
            "spam\n"
          ],
          "name": "stdout"
        }
      ]
    },
    {
      "cell_type": "code",
      "metadata": {
        "id": "hHHauIHkSFfB"
      },
      "source": [
        "def print_twice(f):\n",
        "    f()\n",
        "    f()"
      ],
      "execution_count": 9,
      "outputs": []
    },
    {
      "cell_type": "code",
      "metadata": {
        "id": "8Jq3lSf6SQRf",
        "outputId": "2da813e5-1d13-45ef-ffad-93de96814aa8",
        "colab": {
          "base_uri": "https://localhost:8080/"
        }
      },
      "source": [
        "def print_spam():\n",
        "    print('spam')\n",
        "print_twice(print_spam)\n",
        "    "
      ],
      "execution_count": 10,
      "outputs": [
        {
          "output_type": "stream",
          "text": [
            "spam\n",
            "spam\n"
          ],
          "name": "stdout"
        }
      ]
    },
    {
      "cell_type": "code",
      "metadata": {
        "id": "8uOdyg0oSnOr"
      },
      "source": [
        "def do_four(f):\n",
        "   f()\n",
        "   f()\n",
        "   "
      ],
      "execution_count": 16,
      "outputs": []
    },
    {
      "cell_type": "code",
      "metadata": {
        "id": "Hb37PlccTfCm",
        "outputId": "7002a714-4e23-461c-ad9c-8ea8ad5e6726",
        "colab": {
          "base_uri": "https://localhost:8080/"
        }
      },
      "source": [
        "def print_spam():\n",
        "    print('spam')\n",
        "    print('spam')\n",
        "do_four(print_spam)"
      ],
      "execution_count": 18,
      "outputs": [
        {
          "output_type": "stream",
          "text": [
            "spam\n",
            "spam\n",
            "spam\n",
            "spam\n"
          ],
          "name": "stdout"
        }
      ]
    }
  ]
}