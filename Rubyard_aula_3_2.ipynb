{
  "nbformat": 4,
  "nbformat_minor": 0,
  "metadata": {
    "colab": {
      "name": "Untitled8.ipynb",
      "provenance": [],
      "authorship_tag": "ABX9TyMV27bDY2vjdA8326jy3xfN",
      "include_colab_link": true
    },
    "kernelspec": {
      "name": "python3",
      "display_name": "Python 3"
    }
  },
  "cells": [
    {
      "cell_type": "markdown",
      "metadata": {
        "id": "view-in-github",
        "colab_type": "text"
      },
      "source": [
        "<a href=\"https://colab.research.google.com/github/Rubyard/Exercicios-Python-/blob/master/Rubyard_aula_3_2.ipynb\" target=\"_parent\"><img src=\"https://colab.research.google.com/assets/colab-badge.svg\" alt=\"Open In Colab\"/></a>"
      ]
    },
    {
      "cell_type": "code",
      "metadata": {
        "id": "dHwp1y-NPZd-",
        "outputId": "3b218e7d-235d-4c51-d621-99f429df2722",
        "colab": {
          "base_uri": "https://localhost:8080/",
          "height": 34
        }
      },
      "source": [
        "import math\n",
        "posição_inicial=10\n",
        "posição_final=30\n",
        "variação_tempo=5\n",
        "velocidade_media= ((posição_final-posição_inicial)/(variação_tempo))\n",
        "print(velocidade_media, 'm/s')\n"
      ],
      "execution_count": 13,
      "outputs": [
        {
          "output_type": "stream",
          "text": [
            "4.0 m/s\n"
          ],
          "name": "stdout"
        }
      ]
    },
    {
      "cell_type": "code",
      "metadata": {
        "id": "4E0CC3ZVVS7j",
        "outputId": "9a8db8bc-bf14-4da2-d833-3d48ce18826f",
        "colab": {
          "base_uri": "https://localhost:8080/",
          "height": 34
        }
      },
      "source": [
        "import math\n",
        "velocidade_inicial=100\n",
        "aceleracao=20\n",
        "tempo=5\n",
        "velocidade_final=(velocidade_inicial)+((aceleracao)*(tempo))\n",
        "print(velocidade_final, 'm/s')\n"
      ],
      "execution_count": 14,
      "outputs": [
        {
          "output_type": "stream",
          "text": [
            "200 m/s\n"
          ],
          "name": "stdout"
        }
      ]
    },
    {
      "cell_type": "code",
      "metadata": {
        "id": "nMX8sIbeU0f8"
      },
      "source": [
        ""
      ],
      "execution_count": null,
      "outputs": []
    }
  ]
}